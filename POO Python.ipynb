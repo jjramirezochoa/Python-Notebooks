{
 "cells": [
  {
   "cell_type": "markdown",
   "metadata": {},
   "source": [
    "## Concepts:\n",
    "\n",
    "1. Class\n",
    "2. objects (Class Instance)\n",
    "3. Inheritance\n",
    "4. Encapsulation\n",
    "5. Modularity\n",
    "6. Polymorphism\n",
    "\n",
    "**self** works like the instance **this** in other programming languages.\n"
   ]
  },
  {
   "cell_type": "code",
   "execution_count": 33,
   "metadata": {},
   "outputs": [],
   "source": [
    "class car():\n",
    "    large = 250\n",
    "    width = 120\n",
    "    tires = 4\n",
    "    stop = True\n",
    "    \n",
    "    def speedup(self):\n",
    "        self.stop = False\n",
    "    \n",
    "    def status(self):\n",
    "        if(self.stop):\n",
    "            return \"The car is stopped\"\n",
    "        else:\n",
    "            return \"The car is on going\"\n",
    "        "
   ]
  },
  {
   "cell_type": "code",
   "execution_count": 34,
   "metadata": {},
   "outputs": [
    {
     "name": "stdout",
     "output_type": "stream",
     "text": [
      "The car status is: The car is on going\n"
     ]
    }
   ],
   "source": [
    "car1 = car()\n",
    "car1.speedup()\n",
    "print(\"The car status is:\",car1.status())"
   ]
  },
  {
   "cell_type": "markdown",
   "metadata": {},
   "source": [
    "### Constructor Method"
   ]
  },
  {
   "cell_type": "code",
   "execution_count": 40,
   "metadata": {},
   "outputs": [
    {
     "name": "stdout",
     "output_type": "stream",
     "text": [
      "The car status is: The car is on going\n"
     ]
    }
   ],
   "source": [
    "class car():\n",
    "    \n",
    "    def __init__(self): # Contructor. Its name is __init__\n",
    "        self.__large = 250 # __ indicates the property is Encapsulated\n",
    "        self.__width = 120\n",
    "        self.__tires = 4\n",
    "        self.stop = True\n",
    "    \n",
    "    def speedup(self):\n",
    "        self.stop = False\n",
    "    \n",
    "    def status(self):\n",
    "        if(self.stop):\n",
    "            return \"The car is stopped\"\n",
    "        else:\n",
    "            return \"The car is on going\"\n",
    "\n",
    "car1 = car()\n",
    "car1.speedup()\n",
    "print(\"The car status is: {}\".format(car1.status()))"
   ]
  },
  {
   "cell_type": "markdown",
   "metadata": {},
   "source": [
    "### Methods Encapsulation"
   ]
  },
  {
   "cell_type": "code",
   "execution_count": 36,
   "metadata": {},
   "outputs": [
    {
     "ename": "AttributeError",
     "evalue": "'car' object has no attribute '__status'",
     "output_type": "error",
     "traceback": [
      "\u001b[0;31m---------------------------------------------------------------------------\u001b[0m",
      "\u001b[0;31mAttributeError\u001b[0m                            Traceback (most recent call last)",
      "\u001b[0;32m<ipython-input-36-d5a8818d3e90>\u001b[0m in \u001b[0;36m<module>\u001b[0;34m\u001b[0m\n\u001b[1;32m     17\u001b[0m \u001b[0;34m\u001b[0m\u001b[0m\n\u001b[1;32m     18\u001b[0m \u001b[0mcar1\u001b[0m \u001b[0;34m=\u001b[0m \u001b[0mcar\u001b[0m\u001b[0;34m(\u001b[0m\u001b[0;34m)\u001b[0m\u001b[0;34m\u001b[0m\u001b[0;34m\u001b[0m\u001b[0m\n\u001b[0;32m---> 19\u001b[0;31m \u001b[0mprint\u001b[0m\u001b[0;34m(\u001b[0m\u001b[0;34m\"The car status is: {}\"\u001b[0m\u001b[0;34m.\u001b[0m\u001b[0mformat\u001b[0m\u001b[0;34m(\u001b[0m\u001b[0mcar1\u001b[0m\u001b[0;34m.\u001b[0m\u001b[0m__status\u001b[0m\u001b[0;34m(\u001b[0m\u001b[0;34m)\u001b[0m\u001b[0;34m)\u001b[0m\u001b[0;34m)\u001b[0m\u001b[0;34m\u001b[0m\u001b[0;34m\u001b[0m\u001b[0m\n\u001b[0m",
      "\u001b[0;31mAttributeError\u001b[0m: 'car' object has no attribute '__status'"
     ]
    }
   ],
   "source": [
    "class car():\n",
    "    \n",
    "    def __init__(self): # Contructor. Its name is __init__\n",
    "        self.__large = 250 # __ indicates the property is Encapsulated\n",
    "        self.__width = 120\n",
    "        self.__tires = 4\n",
    "        self.stop = True\n",
    "    \n",
    "    def speedup(self):\n",
    "        self.stop = True\n",
    "    \n",
    "    def __status(self):\n",
    "        if(self.stop):\n",
    "            return \"The car is stopped\"\n",
    "        else:\n",
    "            return \"The car is on going\"\n",
    "\n",
    "car1 = car()\n",
    "print(\"The car status is: {}\".format(car1.__status()))"
   ]
  },
  {
   "cell_type": "markdown",
   "metadata": {},
   "source": [
    "### Inheritance"
   ]
  },
  {
   "cell_type": "code",
   "execution_count": 46,
   "metadata": {},
   "outputs": [
    {
     "name": "stdout",
     "output_type": "stream",
     "text": [
      "Brand:  honda \n",
      "Model:  cx600 \n",
      "ongoing:  False \n",
      "speedup:  False \n",
      "brake:  False\n"
     ]
    }
   ],
   "source": [
    "class Vehicle():\n",
    "    \n",
    "    def __init__(self, brand, model): \n",
    "        self.brand = brand\n",
    "        self.model = model\n",
    "        self.ongoing = False\n",
    "        self.speedup = False\n",
    "        self.brake = False\n",
    "        \n",
    "    def ongoing(self):\n",
    "         self.ongoing = True\n",
    "    \n",
    "    def speedup(self):\n",
    "        self.speedup = True\n",
    "        \n",
    "    def brake():\n",
    "        self.brake = True\n",
    "        \n",
    "    def status(self):\n",
    "        print(\"Brand: \", self.brand, \"\\nModel: \", self.model, \"\\nongoing: \", self.ongoing, \"\\nspeedup: \", self.speedup, \"\\nbrake: \",self.brake)\n",
    "     \n",
    "    \n",
    "class Motorcycle(Vehicle): # In this step, Motocycle  Class inherits from Vehicle Class\n",
    "    pass\n",
    "\n",
    "moto = Motorcycle('honda', 'cx600')\n",
    "moto.status()"
   ]
  },
  {
   "cell_type": "markdown",
   "metadata": {},
   "source": [
    "### Multiple Inheritance"
   ]
  },
  {
   "cell_type": "code",
   "execution_count": 64,
   "metadata": {},
   "outputs": [
    {
     "name": "stdout",
     "output_type": "stream",
     "text": [
      "Brand:  honda \n",
      "Model:  cx600 \n",
      "ongoing:  False \n",
      "speedup:  False \n",
      "brake:  False\n",
      "The motocycle is going on in one tire\n"
     ]
    }
   ],
   "source": [
    "class Vehicle():\n",
    "    \n",
    "    def __init__(self, brand, model): \n",
    "        self.brand = brand\n",
    "        self.model = model\n",
    "        self.ongoing = False\n",
    "        self.speedup = False\n",
    "        self.brake = False\n",
    "        \n",
    "    def ongoing(self):\n",
    "         self.ongoing = True\n",
    "    \n",
    "    def speedup(self):\n",
    "        self.speedup = True\n",
    "        \n",
    "    def brake():\n",
    "        self.brake = True\n",
    "        \n",
    "    def status(self):\n",
    "        print(\"Brand: \", self.brand, \"\\nModel: \", self.model, \"\\nongoing: \", self.ongoing, \"\\nspeedup: \", self.speedup, \"\\nbrake: \",self.brake)\n",
    "     \n",
    "    \n",
    "class Motorcycle(Vehicle): # In this step, Motocycle  Class inherits from Vehicle Class\n",
    "    \n",
    "    speedup_in_one_tire_variable = False\n",
    "    \n",
    "    def speedup_in_one_tire(self):\n",
    "        self.speedup_in_one_tire_variable= True\n",
    "\n",
    "\n",
    "class Motorcycle2(): # In this step, Motocycle  Class inherits from Vehicle Class\n",
    "    \n",
    "    speedup_in_one_tire_variable = False\n",
    "    \n",
    "    def speedup_in_one_tire(self):\n",
    "        self.speedup_in_one_tire_variable= True\n",
    "\n",
    "        \n",
    "class MotorcycleDeluxe(Vehicle, Motorcycle2): # Multiple Inheritance\n",
    "    pass\n",
    "        \n",
    "        \n",
    "moto = MotorcycleDeluxe('honda', 'cx600')\n",
    "moto.status()\n",
    "moto.speedup_in_one_tire()\n",
    "if moto.speedup_in_one_tire_variable == False:\n",
    "    print(\"The motorcycle is not going on in one tire\")\n",
    "else:\n",
    "    print(\"The motorcycle is going on in one tire\")\n",
    "    "
   ]
  },
  {
   "cell_type": "markdown",
   "metadata": {},
   "source": [
    "### super( ) and isinstance( )\n",
    "\n",
    "* super( ) helps to give the input parameters from constructor method of father class. super( ) helps to run methods from father class too.\n",
    "* isinstance( ) heps to know if any object is instance of any class."
   ]
  },
  {
   "cell_type": "code",
   "execution_count": 77,
   "metadata": {},
   "outputs": [
    {
     "name": "stdout",
     "output_type": "stream",
     "text": [
      "name:  Antonio age:  29 city:  Bogota\n",
      "salary:  20000 antiquity:  10\n"
     ]
    },
    {
     "data": {
      "text/plain": [
       "False"
      ]
     },
     "execution_count": 77,
     "metadata": {},
     "output_type": "execute_result"
    }
   ],
   "source": [
    "class Person():\n",
    "    \n",
    "    def __init__(self, name, age, city):\n",
    "        self.name = name\n",
    "        self.age = age\n",
    "        self.city = city\n",
    "    \n",
    "    def description(self):\n",
    "        print(\"name: \", self.name, \"age: \", self.age, \"city: \", self.city)\n",
    "        \n",
    "\n",
    "class Employee(Person):\n",
    "    \n",
    "    def __init__(self, salary, antiquity, name_employee, age_employee, city_employee):\n",
    "        \n",
    "        super().__init__(name_employee, age_employee, city_employee)\n",
    "        \n",
    "        self.salary = salary\n",
    "        self.antiquity = antiquity\n",
    "    \n",
    "    def description(self):\n",
    "        super().description()\n",
    "        print(\"salary: \", self.salary, \"antiquity: \", self.antiquity)\n",
    "        \n",
    "\n",
    "antonio = Employee(20000, 10, 'Antonio', 29, 'Bogota')\n",
    "antonio.description()\n",
    "manuel = Person('Manuel', 30, 'Cali')\n",
    "\n",
    "isinstance(manuel,Employee)"
   ]
  },
  {
   "cell_type": "markdown",
   "metadata": {},
   "source": [
    "### Polymorphism"
   ]
  },
  {
   "cell_type": "code",
   "execution_count": 80,
   "metadata": {},
   "outputs": [
    {
     "name": "stdout",
     "output_type": "stream",
     "text": [
      "BIKE\n"
     ]
    }
   ],
   "source": [
    "class car():\n",
    "    def printScreen(self):\n",
    "        print('CAR')\n",
    "\n",
    "class bike():\n",
    "    def printScreen(self):\n",
    "        print('BIKE')\n",
    "\n",
    "class truck():\n",
    "    def printScreen(self):\n",
    "        print('TRUCK')\n",
    "\n",
    "def printScreen2(vehicle): # Here we apply polymorphism. This function infers the object type of \n",
    "    vehicle.printScreen()\n",
    "\n",
    "cicla = bike()\n",
    "printScreen2(cicla)"
   ]
  },
  {
   "cell_type": "code",
   "execution_count": null,
   "metadata": {},
   "outputs": [],
   "source": []
  }
 ],
 "metadata": {
  "kernelspec": {
   "display_name": "Python 3",
   "language": "python",
   "name": "python3"
  },
  "language_info": {
   "codemirror_mode": {
    "name": "ipython",
    "version": 3
   },
   "file_extension": ".py",
   "mimetype": "text/x-python",
   "name": "python",
   "nbconvert_exporter": "python",
   "pygments_lexer": "ipython3",
   "version": "3.7.3"
  }
 },
 "nbformat": 4,
 "nbformat_minor": 2
}
