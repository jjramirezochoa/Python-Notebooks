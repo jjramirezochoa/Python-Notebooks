{
 "cells": [
  {
   "cell_type": "markdown",
   "metadata": {},
   "source": [
    "# Python Course\n",
    "\n",
    "\n",
    "#### This course includes the python concepts from data types, basic operations to complex functions and procedures"
   ]
  },
  {
   "cell_type": "markdown",
   "metadata": {},
   "source": [
    "Why python?\n",
    "\n",
    "1. Big community\n",
    "2. Easy syntax\n",
    "3. Many industrial application over python\n",
    "4. Backend applications, data science application, Machine Learning, others"
   ]
  },
  {
   "cell_type": "markdown",
   "metadata": {},
   "source": [
    "The following code shows \"Hello world\" as output:"
   ]
  },
  {
   "cell_type": "code",
   "execution_count": 1,
   "metadata": {},
   "outputs": [
    {
     "name": "stdout",
     "output_type": "stream",
     "text": [
      "Hello World\n"
     ]
    }
   ],
   "source": [
    "print('Hello World')"
   ]
  },
  {
   "cell_type": "markdown",
   "metadata": {},
   "source": [
    "# Concept: Python 2 vs Python 3\n"
   ]
  },
  {
   "cell_type": "markdown",
   "metadata": {},
   "source": [
    "Python 3 fix some issues from Python 2, for an example:\n",
    "\n",
    "1. In Python 3 'print' is a function.\n",
    "2. Unicode is established by default instead of ASCII\n",
    "3. python infers the data type. Ex: a = 2, type (a) = Int. type(a/2) = Float \n",
    "4. Raw_input is replaced by input"
   ]
  },
  {
   "cell_type": "markdown",
   "metadata": {},
   "source": [
    "# Basic Datatypes"
   ]
  },
  {
   "cell_type": "markdown",
   "metadata": {},
   "source": [
    "1. Integer\n",
    "2. Float\n",
    "3. String\n",
    "4. Boolean"
   ]
  },
  {
   "cell_type": "markdown",
   "metadata": {},
   "source": [
    "# Variables \n",
    "\n",
    "1. Their names cannot be Keywords\n",
    "2. Their names have to be related to their meanings"
   ]
  },
  {
   "cell_type": "markdown",
   "metadata": {},
   "source": [
    "To include charaters in spanish, it is neccesary to add the following in line in the python script."
   ]
  },
  {
   "cell_type": "code",
   "execution_count": 10,
   "metadata": {},
   "outputs": [],
   "source": [
    "# -*- coding: utf-8 -*-"
   ]
  },
  {
   "cell_type": "markdown",
   "metadata": {},
   "source": [
    "# Functions\n",
    "\n"
   ]
  },
  {
   "cell_type": "code",
   "execution_count": 1,
   "metadata": {},
   "outputs": [
    {
     "name": "stdout",
     "output_type": "stream",
     "text": [
      "12\n"
     ]
    }
   ],
   "source": [
    "def suma(a,b):\n",
    "    return a + b\n",
    "\n",
    "c = suma(4,8)\n",
    "print (c)"
   ]
  },
  {
   "cell_type": "markdown",
   "metadata": {},
   "source": [
    "Sometimes, in any script We need to specify the beginning point on the script to run the commands. Generally the beggining point is the main function. To do that We need to add the following command ('if __name__ == \"__main__\":) on the script:"
   ]
  },
  {
   "cell_type": "code",
   "execution_count": 2,
   "metadata": {},
   "outputs": [
    {
     "name": "stdout",
     "output_type": "stream",
     "text": [
      "First Test\n",
      "Second Test\n"
     ]
    }
   ],
   "source": [
    "def test():\n",
    "    print('Second Test')\n",
    "\n",
    "def main():\n",
    "    print('First Test')\n",
    "    test()\n",
    "\n",
    "if __name__ == \"__main__\":\n",
    "    main()"
   ]
  },
  {
   "cell_type": "markdown",
   "metadata": {},
   "source": [
    "To create empty function without error when Python run the function, We need to write the keyword **pass** as follows:"
   ]
  },
  {
   "cell_type": "code",
   "execution_count": 3,
   "metadata": {},
   "outputs": [],
   "source": [
    "def TestFuntion():\n",
    "    pass"
   ]
  },
  {
   "cell_type": "markdown",
   "metadata": {},
   "source": [
    "# Conditional Structures"
   ]
  },
  {
   "cell_type": "code",
   "execution_count": 4,
   "metadata": {},
   "outputs": [
    {
     "data": {
      "text/plain": [
       "False"
      ]
     },
     "execution_count": 4,
     "metadata": {},
     "output_type": "execute_result"
    }
   ],
   "source": [
    "5 == 4"
   ]
  },
  {
   "cell_type": "code",
   "execution_count": 5,
   "metadata": {},
   "outputs": [
    {
     "data": {
      "text/plain": [
       "True"
      ]
     },
     "execution_count": 5,
     "metadata": {},
     "output_type": "execute_result"
    }
   ],
   "source": [
    "5 > 4"
   ]
  },
  {
   "cell_type": "code",
   "execution_count": 6,
   "metadata": {},
   "outputs": [
    {
     "name": "stdout",
     "output_type": "stream",
     "text": [
      "The numbers are not equal\n"
     ]
    }
   ],
   "source": [
    "a = 5\n",
    "b = 4\n",
    "\n",
    "if (a != b):\n",
    "    print('The numbers are not equal')\n",
    "else:\n",
    "    print('The numbers are equal')"
   ]
  },
  {
   "cell_type": "markdown",
   "metadata": {},
   "source": [
    "# Best Practices"
   ]
  },
  {
   "cell_type": "code",
   "execution_count": 7,
   "metadata": {},
   "outputs": [
    {
     "name": "stdout",
     "output_type": "stream",
     "text": [
      "The Zen of Python, by Tim Peters\n",
      "\n",
      "Beautiful is better than ugly.\n",
      "Explicit is better than implicit.\n",
      "Simple is better than complex.\n",
      "Complex is better than complicated.\n",
      "Flat is better than nested.\n",
      "Sparse is better than dense.\n",
      "Readability counts.\n",
      "Special cases aren't special enough to break the rules.\n",
      "Although practicality beats purity.\n",
      "Errors should never pass silently.\n",
      "Unless explicitly silenced.\n",
      "In the face of ambiguity, refuse the temptation to guess.\n",
      "There should be one-- and preferably only one --obvious way to do it.\n",
      "Although that way may not be obvious at first unless you're Dutch.\n",
      "Now is better than never.\n",
      "Although never is often better than *right* now.\n",
      "If the implementation is hard to explain, it's a bad idea.\n",
      "If the implementation is easy to explain, it may be a good idea.\n",
      "Namespaces are one honking great idea -- let's do more of those!\n"
     ]
    }
   ],
   "source": [
    "import this "
   ]
  },
  {
   "cell_type": "markdown",
   "metadata": {},
   "source": [
    "Python Documentation: https://docs.python.org/3/..."
   ]
  },
  {
   "cell_type": "markdown",
   "metadata": {},
   "source": [
    "## Recursive Functions"
   ]
  },
  {
   "cell_type": "code",
   "execution_count": 8,
   "metadata": {},
   "outputs": [
    {
     "data": {
      "text/plain": [
       "24"
      ]
     },
     "execution_count": 8,
     "metadata": {},
     "output_type": "execute_result"
    }
   ],
   "source": [
    "def fact(a):\n",
    "    if a == 0:\n",
    "        return 1\n",
    "    return a*fact(a-1)\n",
    "\n",
    "fact(4)"
   ]
  },
  {
   "cell_type": "markdown",
   "metadata": {},
   "source": [
    "# Comparison between String and Unicode"
   ]
  },
  {
   "cell_type": "markdown",
   "metadata": {},
   "source": [
    "Difference between ASCII and Unicode:\n",
    "\n",
    "1. Both are characters coding.\n",
    "2. ASCII (American Language).\n",
    "3. Unicode, includes the most languages in the world.\n",
    "\n",
    "Python2 assumes thats strings are in ASCII coding. Python3 assumes that strings are in Unicode coding."
   ]
  },
  {
   "cell_type": "markdown",
   "metadata": {},
   "source": [
    "NOTE: It is important to take into account that a string chain could be handled like a vector, so you can obtain the value of any string position"
   ]
  },
  {
   "cell_type": "markdown",
   "metadata": {},
   "source": [
    "### How to access to String positions"
   ]
  },
  {
   "cell_type": "code",
   "execution_count": 80,
   "metadata": {},
   "outputs": [
    {
     "data": {
      "text/plain": [
       "'txeT a si sihT'"
      ]
     },
     "execution_count": 80,
     "metadata": {},
     "output_type": "execute_result"
    }
   ],
   "source": [
    "a = 'This is a Text'\n",
    "# a[2:] ## Removes the first 2 characters\n",
    "# a[-1] ## Returns the last character\n",
    "# a[:4] ## Keeps the first 4 characters\n",
    "# a[0:9:2] ## Returns the caracters until 9th character 2 by 2\n",
    "a[::-1] ## Returns the string in an reverse order"
   ]
  },
  {
   "cell_type": "markdown",
   "metadata": {},
   "source": [
    "Below you can find the function to handle string data:\n",
    "\n",
    "1. upper: Convert to upper letter.\n",
    "2. isupper: Ask if the string has upper letters.\n",
    "3. lower: Convert to lower letter.\n",
    "4. islower: Ask if the string has lower letters.\n",
    "5. find: To find a specific character. If it does not find it, returns -1.\n",
    "6. isdigit: Ask if the string is a number.\n",
    "7. endswith: Ask if the string ends with a specific character.\n",
    "8. startswith: Ask if the string starts with a specific character.\n",
    "9. split: Split the string depends on the seperator that you need.\n",
    "10. join: join several strings."
   ]
  },
  {
   "cell_type": "markdown",
   "metadata": {},
   "source": [
    "# Loops"
   ]
  },
  {
   "cell_type": "code",
   "execution_count": 83,
   "metadata": {},
   "outputs": [
    {
     "name": "stdout",
     "output_type": "stream",
     "text": [
      "0\n",
      "1\n",
      "2\n"
     ]
    }
   ],
   "source": [
    "for i in range(3):\n",
    "    print(i)\n",
    "\n",
    "## Take into account range(n) create a list of numbers form 0 to n-1"
   ]
  },
  {
   "cell_type": "markdown",
   "metadata": {},
   "source": [
    "### Keywords useful in Loops:\n",
    "    \n",
    "1. Continue\n",
    "2. Break"
   ]
  },
  {
   "cell_type": "code",
   "execution_count": 84,
   "metadata": {},
   "outputs": [
    {
     "name": "stdout",
     "output_type": "stream",
     "text": [
      "T\n",
      "W\n"
     ]
    }
   ],
   "source": [
    "for i in 'TestWord':\n",
    "    if i.isupper():\n",
    "        print(i)"
   ]
  },
  {
   "cell_type": "code",
   "execution_count": 90,
   "metadata": {},
   "outputs": [
    {
     "name": "stdout",
     "output_type": "stream",
     "text": [
      "2\n",
      "4\n",
      "6\n"
     ]
    }
   ],
   "source": [
    "i = 1\n",
    "while i<8:\n",
    "    if i % 2 == 0:\n",
    "        print(i)\n",
    "    i += 1"
   ]
  },
  {
   "cell_type": "code",
   "execution_count": 96,
   "metadata": {},
   "outputs": [
    {
     "name": "stdout",
     "output_type": "stream",
     "text": [
      "try it!  5\n",
      "El numero es mas pequeño\n",
      "try it!  3\n",
      "Congrats\n"
     ]
    }
   ],
   "source": [
    "import random\n",
    "\n",
    "def run():\n",
    "    number_found = False\n",
    "    random_number = random.randint(0,20)\n",
    "    \n",
    "    while not number_found:\n",
    "        number = int(input('try it!  '))\n",
    "        \n",
    "        if number == random_number:\n",
    "            print('Congrats')\n",
    "            number_found = True\n",
    "        elif number > random_number:\n",
    "            print('El numero es mas pequeño')\n",
    "        else:\n",
    "            print('El numero es mas grande')\n",
    "\n",
    "run()       "
   ]
  },
  {
   "cell_type": "code",
   "execution_count": 11,
   "metadata": {},
   "outputs": [
    {
     "name": "stdout",
     "output_type": "stream",
     "text": [
      "The word is not palindromo\n"
     ]
    }
   ],
   "source": [
    "def isMatch(a):\n",
    "    b = a[::-1]\n",
    "    if a == b:\n",
    "        print('The word is palindromo')\n",
    "    else:\n",
    "        print('The word is not palindromo')\n",
    "\n",
    "isMatch('saca')"
   ]
  },
  {
   "cell_type": "code",
   "execution_count": 24,
   "metadata": {},
   "outputs": [
    {
     "name": "stdout",
     "output_type": "stream",
     "text": [
      "hol\n"
     ]
    }
   ],
   "source": [
    "a = \"hola\"\n",
    "print(a[:-1])"
   ]
  },
  {
   "cell_type": "markdown",
   "metadata": {},
   "source": [
    "# Collections in Python"
   ]
  },
  {
   "cell_type": "markdown",
   "metadata": {},
   "source": [
    "### Lists\n",
    "\n",
    "They are a secuences of numbers. To define them you need to use [ ]"
   ]
  },
  {
   "cell_type": "code",
   "execution_count": 102,
   "metadata": {},
   "outputs": [
    {
     "data": {
      "text/plain": [
       "'Jhon'"
      ]
     },
     "execution_count": 102,
     "metadata": {},
     "output_type": "execute_result"
    }
   ],
   "source": [
    "friendList = ['Juan','Pedro','Ana']\n",
    "friendList.append('Jhon')\n",
    "friendList[3]"
   ]
  },
  {
   "cell_type": "code",
   "execution_count": 107,
   "metadata": {},
   "outputs": [
    {
     "name": "stdout",
     "output_type": "stream",
     "text": [
      "20.857142857142858\n"
     ]
    },
    {
     "data": {
      "text/plain": [
       "float"
      ]
     },
     "execution_count": 107,
     "metadata": {},
     "output_type": "execute_result"
    }
   ],
   "source": [
    "temperatureList = [20, 21, 18, 24, 25, 18, 20]\n",
    "\n",
    "def averageTemp(a):\n",
    "    Result = 0\n",
    "    for i in a:\n",
    "        Result = Result + i\n",
    "    return Result/len(a)\n",
    "\n",
    "print(averageTemp(temperatureList))\n",
    "type(averageTemp(temperatureList))"
   ]
  },
  {
   "cell_type": "markdown",
   "metadata": {},
   "source": [
    "### Operation with Lists\n",
    "\n",
    "1. Sum (Addition)\n",
    "2. Product"
   ]
  },
  {
   "cell_type": "code",
   "execution_count": 108,
   "metadata": {},
   "outputs": [
    {
     "name": "stdout",
     "output_type": "stream",
     "text": [
      "[1, 2, 3, 4, 5]\n"
     ]
    }
   ],
   "source": [
    "list1 = [1, 2, 3]\n",
    "list2 = [4, 5]\n",
    "print(list1 + list2)"
   ]
  },
  {
   "cell_type": "code",
   "execution_count": 109,
   "metadata": {},
   "outputs": [
    {
     "name": "stdout",
     "output_type": "stream",
     "text": [
      "[1, 2, 3, 1, 2, 3, 1, 2, 3]\n"
     ]
    }
   ],
   "source": [
    "list3 = [1, 2, 3]\n",
    "print(list3*3)"
   ]
  },
  {
   "cell_type": "markdown",
   "metadata": {},
   "source": [
    "Other function of Lists is pop. This function deletes the last List's elements and returns this value."
   ]
  },
  {
   "cell_type": "code",
   "execution_count": 118,
   "metadata": {},
   "outputs": [
    {
     "data": {
      "text/plain": [
       "[1, 2, 3, 4]"
      ]
     },
     "execution_count": 118,
     "metadata": {},
     "output_type": "execute_result"
    }
   ],
   "source": [
    "List4 = [1, 2, 3, 4, 5]\n",
    "List4.pop()\n",
    "List4"
   ]
  },
  {
   "cell_type": "code",
   "execution_count": 119,
   "metadata": {},
   "outputs": [
    {
     "data": {
      "text/plain": [
       "[2, 3, 4]"
      ]
     },
     "execution_count": 119,
     "metadata": {},
     "output_type": "execute_result"
    }
   ],
   "source": [
    "del List4[0] ## Deletes the element located in 0th position.\n",
    "List4"
   ]
  },
  {
   "cell_type": "markdown",
   "metadata": {},
   "source": [
    "To convert a string in a list, you can use the function list as follows:"
   ]
  },
  {
   "cell_type": "code",
   "execution_count": 120,
   "metadata": {},
   "outputs": [
    {
     "data": {
      "text/plain": [
       "['c', 'a', 's', 'a']"
      ]
     },
     "execution_count": 120,
     "metadata": {},
     "output_type": "execute_result"
    }
   ],
   "source": [
    "casa = 'casa'\n",
    "listCasa = list(casa)\n",
    "listCasa"
   ]
  },
  {
   "cell_type": "markdown",
   "metadata": {},
   "source": [
    "## Binary Search \n",
    "\n",
    "It is an efficient way to find any value inside of an ordered list."
   ]
  },
  {
   "cell_type": "code",
   "execution_count": 157,
   "metadata": {},
   "outputs": [],
   "source": [
    "def findNumber(number,testList, low, high):\n",
    "    if low>high:\n",
    "        return False\n",
    "    \n",
    "    mid =  int((low + high)/2)\n",
    "    \n",
    "    if testList[mid] == number:\n",
    "        return True\n",
    "    elif testList[mid] < number:\n",
    "        return findNumber(number,testList,low,mid-1)\n",
    "    else:\n",
    "        return findNumber(number,testList,mid+1,high)\n",
    "    \n",
    "    \n",
    "def finalResult(a):\n",
    "    if a:\n",
    "        print('The number is in the list')\n",
    "    else:\n",
    "        print('The number is not in the list')"
   ]
  },
  {
   "cell_type": "code",
   "execution_count": 162,
   "metadata": {},
   "outputs": [
    {
     "name": "stdout",
     "output_type": "stream",
     "text": [
      "The number is not in the list\n"
     ]
    }
   ],
   "source": [
    "finalResult(findNumber(1,[2,3,5,7,8,10,18,19],0,7))\n"
   ]
  },
  {
   "cell_type": "markdown",
   "metadata": {},
   "source": [
    "### Other way to do a Binary Search"
   ]
  },
  {
   "cell_type": "code",
   "execution_count": 44,
   "metadata": {},
   "outputs": [],
   "source": [
    "import math\n",
    "\n",
    "def findNumber2(n,numbers):\n",
    "    low = 0\n",
    "    high = len(numbers)-1\n",
    "    condition = True\n",
    "    m = int((low+high)/2)\n",
    "    while condition:\n",
    "        if n == numbers[m]:\n",
    "            print('The number is in the list')\n",
    "            condition = False\n",
    "        elif n < numbers[m]:\n",
    "            if m != high:\n",
    "                high = m\n",
    "                m = math.floor((low+high)/2)\n",
    "            else:\n",
    "                condition = False\n",
    "                print('The number is not in the list')\n",
    "        else:\n",
    "            if m != low:\n",
    "                low = m\n",
    "                m = math.ceil((low+high)/2)\n",
    "            else:\n",
    "                condition = False\n",
    "                print('The number is not in the list')\n",
    "            "
   ]
  },
  {
   "cell_type": "code",
   "execution_count": 48,
   "metadata": {},
   "outputs": [
    {
     "name": "stdout",
     "output_type": "stream",
     "text": [
      "The number is in the list\n"
     ]
    }
   ],
   "source": [
    "findNumber2(2, [2,3,5,7,8,10,18,19])"
   ]
  },
  {
   "cell_type": "markdown",
   "metadata": {},
   "source": [
    "### Dictionaries\n",
    "\n",
    "1. it is like a map (keys and values). Their values can be any type.\n",
    "2. To create a dict, you need to use { } or dict( )."
   ]
  },
  {
   "cell_type": "code",
   "execution_count": 54,
   "metadata": {},
   "outputs": [
    {
     "data": {
      "text/plain": [
       "{1: 'Juan', 2: 'Jhon', 3: 'Jaime', 4: 'Ana'}"
      ]
     },
     "execution_count": 54,
     "metadata": {},
     "output_type": "execute_result"
    }
   ],
   "source": [
    "my_dict = {1:'Juan', 2: 'Jhon', 3: 'Jaime'}\n",
    "my_dict[4] = 'Ana'\n",
    "my_dict"
   ]
  },
  {
   "cell_type": "code",
   "execution_count": 2,
   "metadata": {},
   "outputs": [
    {
     "data": {
      "text/plain": [
       "4.125"
      ]
     },
     "execution_count": 2,
     "metadata": {},
     "output_type": "execute_result"
    }
   ],
   "source": [
    "qualifications = {}\n",
    "qualifications['Maths'] = 4\n",
    "qualifications['Physics'] = 3.5\n",
    "qualifications['Biology'] = 5\n",
    "qualifications['Statistics'] = 4\n",
    "average = 0\n",
    "\n",
    "for i in qualifications.values():\n",
    "    average = average + i\n",
    "\n",
    "average = average/(len(qualifications.values()))\n",
    "average"
   ]
  },
  {
   "cell_type": "code",
   "execution_count": 32,
   "metadata": {},
   "outputs": [
    {
     "name": "stdout",
     "output_type": "stream",
     "text": [
      "Subject Maths, its qualification is: 4\n",
      "Subject Physics, its qualification is: 3.5\n",
      "Subject Biology, its qualification is: 5\n",
      "Subject Statistics, its qualification is: 4\n"
     ]
    }
   ],
   "source": [
    "for key, value in qualifications.items():\n",
    "    print(\"Subject %s, its qualification is: %s\"% (key, value))"
   ]
  },
  {
   "cell_type": "markdown",
   "metadata": {},
   "source": [
    "To enumerate the list items you can use the function \"enumerate\"."
   ]
  },
  {
   "cell_type": "code",
   "execution_count": 20,
   "metadata": {},
   "outputs": [
    {
     "name": "stdout",
     "output_type": "stream",
     "text": [
      "[(0, 'Maths'), (1, 'Physics'), (2, 'Biology'), (3, 'Statistics')]\n"
     ]
    }
   ],
   "source": [
    "print(list(enumerate(qualifications.keys())))"
   ]
  },
  {
   "cell_type": "markdown",
   "metadata": {},
   "source": [
    "The following code allows cypher a message using dictionaries."
   ]
  },
  {
   "cell_type": "code",
   "execution_count": 18,
   "metadata": {},
   "outputs": [
    {
     "name": "stdout",
     "output_type": "stream",
     "text": [
      "Type the message:  9939393\n",
      "Message Cyphered: 2282828\n"
     ]
    }
   ],
   "source": [
    "cypherList = {1:0, 2:9, 3:8, 4:7, 5:6, 6:5, 7:4, 8:3, 9:2, 0:1}\n",
    "\n",
    "message = str(input('Type the message:  '))\n",
    "messageCyphered = ''\n",
    "\n",
    "for i in message:\n",
    "    messageCyphered = messageCyphered+str(cypherList[int(i)])\n",
    "\n",
    "print('Message Cyphered: '+messageCyphered)"
   ]
  },
  {
   "cell_type": "markdown",
   "metadata": {},
   "source": [
    "### Tuples\n",
    "\n",
    "1. They are like lists, however They are immutables. Python does not allow adding or modifying their elements.\n",
    "2. They are created using ( ).\n",
    "3. They are faster than lists, and their memory consumption is less."
   ]
  },
  {
   "cell_type": "code",
   "execution_count": 32,
   "metadata": {},
   "outputs": [
    {
     "name": "stdout",
     "output_type": "stream",
     "text": [
      "<class 'tuple'>\n",
      "4\n"
     ]
    }
   ],
   "source": [
    "myTuple = (4, 'Hola', 3, 5, 'Mundo')\n",
    "print(type(myTuple))\n",
    "print(myTuple.index('Mundo'))"
   ]
  },
  {
   "cell_type": "markdown",
   "metadata": {},
   "source": [
    "It is possible to convert a tuple to a list (creating a new one)"
   ]
  },
  {
   "cell_type": "code",
   "execution_count": 34,
   "metadata": {},
   "outputs": [
    {
     "data": {
      "text/plain": [
       "tuple"
      ]
     },
     "execution_count": 34,
     "metadata": {},
     "output_type": "execute_result"
    }
   ],
   "source": [
    "myList = list(myTuple)\n",
    "type(myTuple)"
   ]
  },
  {
   "cell_type": "markdown",
   "metadata": {},
   "source": [
    "### Sets\n",
    "\n",
    "1. They have not duplicated elements.\n",
    "2. They are created using set( ) or { }. If uses { } it should not be empty, due to python will create it as dict.\n",
    "3. Not allow includes other collection inside the set.\n",
    "4. Their elements does not have an specific order.\n",
    "5. it is possible including boolean queries.\n",
    "6. It is possible converting to immutable set."
   ]
  },
  {
   "cell_type": "code",
   "execution_count": 89,
   "metadata": {},
   "outputs": [
    {
     "name": "stdout",
     "output_type": "stream",
     "text": [
      "{'Mundo', 2, 3, 4, 5, 'Hola'}\n",
      "{'Mundo', 2, 3, 4, 5, 'Hola'}\n",
      "{'Mundo', 2, 3, 4, 5}\n",
      "set()\n"
     ]
    }
   ],
   "source": [
    "mySet = {2, 3, 4,'Hola', 'Mundo'}\n",
    "mySet.add(5)\n",
    "print(mySet)\n",
    "mySet.add(2) # Not allow adding duplicated elements\n",
    "print(mySet)\n",
    "mySet.discard('Hola')\n",
    "print(mySet)\n",
    "mySet.clear()\n",
    "print(mySet)"
   ]
  },
  {
   "cell_type": "code",
   "execution_count": 91,
   "metadata": {},
   "outputs": [
    {
     "name": "stdout",
     "output_type": "stream",
     "text": [
      "True\n",
      "False\n"
     ]
    }
   ],
   "source": [
    "mySet = {2, 3, 4,'Hola', 'Mundo'}\n",
    "print(2 in mySet)\n",
    "print(2 not in mySet)"
   ]
  },
  {
   "cell_type": "markdown",
   "metadata": {},
   "source": [
    "### Operations with sets"
   ]
  },
  {
   "cell_type": "code",
   "execution_count": 33,
   "metadata": {},
   "outputs": [
    {
     "name": "stdout",
     "output_type": "stream",
     "text": [
      "False\n"
     ]
    }
   ],
   "source": [
    "a = {1,2,3}\n",
    "b = {3,4,5}\n",
    "\n",
    "print( a == b)"
   ]
  },
  {
   "cell_type": "code",
   "execution_count": 95,
   "metadata": {},
   "outputs": [
    {
     "name": "stdout",
     "output_type": "stream",
     "text": [
      "{1, 2, 3, 4, 5}\n"
     ]
    }
   ],
   "source": [
    "print(a|b) # Union set"
   ]
  },
  {
   "cell_type": "code",
   "execution_count": 97,
   "metadata": {},
   "outputs": [
    {
     "name": "stdout",
     "output_type": "stream",
     "text": [
      "{3}\n"
     ]
    }
   ],
   "source": [
    "print(a&b) # Intersection set"
   ]
  },
  {
   "cell_type": "code",
   "execution_count": 98,
   "metadata": {},
   "outputs": [
    {
     "name": "stdout",
     "output_type": "stream",
     "text": [
      "{1, 2}\n"
     ]
    }
   ],
   "source": [
    "print(a-b) # Difference set"
   ]
  },
  {
   "cell_type": "code",
   "execution_count": 99,
   "metadata": {},
   "outputs": [
    {
     "name": "stdout",
     "output_type": "stream",
     "text": [
      "{1, 2, 4, 5}\n"
     ]
    }
   ],
   "source": [
    "print(a^b) # Symmetric Difference set"
   ]
  },
  {
   "cell_type": "code",
   "execution_count": 100,
   "metadata": {},
   "outputs": [
    {
     "name": "stdout",
     "output_type": "stream",
     "text": [
      "True\n"
     ]
    }
   ],
   "source": [
    "c = {1,2,3,4,5}\n",
    "print(b.issubset(c)) # Subset query"
   ]
  },
  {
   "cell_type": "code",
   "execution_count": 101,
   "metadata": {},
   "outputs": [
    {
     "name": "stdout",
     "output_type": "stream",
     "text": [
      "True\n"
     ]
    }
   ],
   "source": [
    "print(c.issuperset(a)) # Superset query"
   ]
  },
  {
   "cell_type": "code",
   "execution_count": 102,
   "metadata": {},
   "outputs": [
    {
     "name": "stdout",
     "output_type": "stream",
     "text": [
      "False\n"
     ]
    }
   ],
   "source": [
    "print(a.isdisjoint(b)) # Disjoint query"
   ]
  },
  {
   "cell_type": "code",
   "execution_count": 22,
   "metadata": {},
   "outputs": [],
   "source": [
    "a = frozenset({1,2,3}) # to convert in immutable set"
   ]
  },
  {
   "cell_type": "code",
   "execution_count": 36,
   "metadata": {},
   "outputs": [
    {
     "name": "stdout",
     "output_type": "stream",
     "text": [
      "{1, 2, 3, 4, 5}\n",
      "{3}\n"
     ]
    }
   ],
   "source": [
    "d = b.union(a)\n",
    "print(d)\n",
    "e = b.intersection(a)\n",
    "print(e)"
   ]
  },
  {
   "cell_type": "markdown",
   "metadata": {},
   "source": [
    "### Dict and List Comprehension (syntactic sugar)"
   ]
  },
  {
   "cell_type": "code",
   "execution_count": 40,
   "metadata": {},
   "outputs": [
    {
     "name": "stdout",
     "output_type": "stream",
     "text": [
      "[2, 4, 6, 8, 10, 12, 14, 16, 18, 20, 22, 24, 26, 28, 30]\n"
     ]
    }
   ],
   "source": [
    "evenNumbers = [num for num in range (1,31) if num % 2 == 0]\n",
    "print(evenNumbers)"
   ]
  },
  {
   "cell_type": "code",
   "execution_count": 41,
   "metadata": {},
   "outputs": [
    {
     "name": "stdout",
     "output_type": "stream",
     "text": [
      "{1: 1, 2: 4, 3: 9, 4: 16, 5: 25, 6: 36, 7: 49, 8: 64, 9: 81, 10: 100, 11: 121, 12: 144, 13: 169, 14: 196, 15: 225, 16: 256, 17: 289, 18: 324, 19: 361, 20: 400, 21: 441, 22: 484, 23: 529, 24: 576, 25: 625, 26: 676, 27: 729, 28: 784, 29: 841, 30: 900}\n"
     ]
    }
   ],
   "source": [
    "squareNumbers = {num: num**2 for num in range (1,31)}\n",
    "print(squareNumbers)"
   ]
  },
  {
   "cell_type": "markdown",
   "metadata": {},
   "source": [
    "## Error Handling"
   ]
  },
  {
   "cell_type": "code",
   "execution_count": null,
   "metadata": {},
   "outputs": [],
   "source": [
    "countries = {'mexico':122, 'colombia':49, 'argentina':43, 'peru':31}\n",
    "\n",
    "while True:\n",
    "    country = str(input('Type the country'))\n",
    "    \n",
    "    try:\n",
    "        print('The population of {} is {}'.format(country, countries[country]))\n",
    "    except KeyError:\n",
    "        print('We have not the country information')"
   ]
  },
  {
   "cell_type": "markdown",
   "metadata": {},
   "source": [
    "## File Management\n",
    "\n",
    "1. With \"open\" function We can read the files data.\n",
    "2. The function open returns a file object (file).\n",
    "3. The files can be text or binary.\n",
    "4. Ways to handle files:\n",
    "    * 'r' = read\n",
    "    * 'w' = write\n",
    "    * 'a' = append\n",
    "    * 'r+' = read and write\n",
    "5. The files have to be closed with the function \"close\"\n",
    "6. The best way to handle files is with the keyword \"with\""
   ]
  },
  {
   "cell_type": "code",
   "execution_count": 44,
   "metadata": {},
   "outputs": [
    {
     "name": "stdout",
     "output_type": "stream",
     "text": [
      "This is a test\n"
     ]
    }
   ],
   "source": [
    "with open('test.txt','r',encoding=\"utf8\") as f:\n",
    "    print(f.readline())"
   ]
  },
  {
   "cell_type": "code",
   "execution_count": 64,
   "metadata": {},
   "outputs": [],
   "source": [
    "with open('test.txt','w',encoding=\"utf8\") as f:\n",
    "    for i in range(10):\n",
    "        f.writelines(str(i)+\"\\n\")"
   ]
  },
  {
   "cell_type": "code",
   "execution_count": 65,
   "metadata": {},
   "outputs": [
    {
     "name": "stdout",
     "output_type": "stream",
     "text": [
      "0\n",
      "\n",
      "1\n",
      "\n",
      "2\n",
      "\n",
      "3\n",
      "\n",
      "4\n",
      "\n",
      "5\n",
      "\n",
      "6\n",
      "\n",
      "7\n",
      "\n",
      "8\n",
      "\n",
      "9\n",
      "\n"
     ]
    }
   ],
   "source": [
    "with open('test.txt','r',encoding=\"utf8\") as f:\n",
    "    for i in range(10):\n",
    "        print(f.readline())"
   ]
  },
  {
   "cell_type": "markdown",
   "metadata": {},
   "source": [
    "The following code will count the times for an specific word."
   ]
  },
  {
   "cell_type": "code",
   "execution_count": 69,
   "metadata": {},
   "outputs": [
    {
     "name": "stdout",
     "output_type": "stream",
     "text": [
      "The times number of word \"for\" is 7\n"
     ]
    }
   ],
   "source": [
    "with open('count.txt','r',encoding=\"utf8\") as f:\n",
    "    counter = 0\n",
    "    for line in f:\n",
    "        counter = counter + line.count('for')\n",
    "\n",
    "print('The times number of word \"for\" is {}'.format(counter))"
   ]
  },
  {
   "cell_type": "markdown",
   "metadata": {},
   "source": [
    "## Classes and Objects\n",
    "\n",
    "Suggestion: To use CamelCase convention. ex: class MathsMethods."
   ]
  },
  {
   "cell_type": "code",
   "execution_count": 75,
   "metadata": {},
   "outputs": [
    {
     "name": "stdout",
     "output_type": "stream",
     "text": [
      "Type the command... (p)render, (a)pagar, (s)alir     p\n",
      "ON\n",
      "Type the command... (p)render, (a)pagar, (s)alir     a\n",
      "OFF\n",
      "Type the command... (p)render, (a)pagar, (s)alir     p\n",
      "ON\n",
      "Type the command... (p)render, (a)pagar, (s)alir     a\n",
      "OFF\n",
      "Type the command... (p)render, (a)pagar, (s)alir     s\n"
     ]
    }
   ],
   "source": [
    "class Lamp:\n",
    "    _LAMPS = ['ON','OFF'] # private variable\n",
    "    \n",
    "    def __init__(self,is_turned_on): # Instance method\n",
    "        self.is_turned_on = False\n",
    "        \n",
    "    def turn_on(self):\n",
    "        self.is_turned_on = True\n",
    "        self._display_image()\n",
    "    \n",
    "    def turn_off(self):\n",
    "        self.is_turned_on = False\n",
    "        self._display_image()\n",
    "        \n",
    "    def _display_image(self): # If method name starts with '_', this is a private method\n",
    "        if self.is_turned_on:\n",
    "            print(self._LAMPS[0])\n",
    "        else:\n",
    "            print(self._LAMPS[1])\n",
    "\n",
    "def run():\n",
    "    lamp = Lamp(is_turned_on=False)\n",
    "    \n",
    "    while True:\n",
    "        command = str(input('Type the command... (p)render, (a)pagar, (s)alir     '))\n",
    "        \n",
    "        if command == 'p':\n",
    "            lamp.turn_on()\n",
    "        elif command == 'a':\n",
    "            lamp.turn_off()\n",
    "        else:\n",
    "            break\n",
    "\n",
    "run()"
   ]
  },
  {
   "cell_type": "markdown",
   "metadata": {},
   "source": [
    "## Decorators\n",
    "\n",
    "1. They are identified by @\n",
    "2. They have as input parameter any function and return other function\n",
    "3. decorators are very useful to include new functionalities to any function"
   ]
  },
  {
   "cell_type": "code",
   "execution_count": 91,
   "metadata": {},
   "outputs": [
    {
     "name": "stdout",
     "output_type": "stream",
     "text": [
      "Type password: test\n",
      "Your pass is ok\n"
     ]
    }
   ],
   "source": [
    "def protected(func):\n",
    "    def wrapper(password):\n",
    "        if password == 'test':\n",
    "            return func()\n",
    "        else:\n",
    "            return('Password is wrong')\n",
    "    return wrapper\n",
    "\n",
    "@protected\n",
    "def protected_func():\n",
    "    print('Your pass is ok')\n",
    "    \n",
    "password = input('Type password: ')\n",
    "\n",
    "protected_func(password)\n",
    "    "
   ]
  },
  {
   "cell_type": "markdown",
   "metadata": {},
   "source": [
    "*args and **kwargs indicates one or several input parameters to any function."
   ]
  },
  {
   "cell_type": "code",
   "execution_count": 54,
   "metadata": {},
   "outputs": [
    {
     "name": "stdout",
     "output_type": "stream",
     "text": [
      "We will calculate the sum of several numbers\n",
      "-12\n",
      "Done!...\n"
     ]
    }
   ],
   "source": [
    "def funcion_decoradora(func_parametro): # The input parameter for the main def is the func_parametro name, and the input for the internal def are the paremeters for the func_parametro.\n",
    "    \n",
    "    def funcion_interior(*args): # additional functionalities - decorates the func_parametro function\n",
    "        print(\"We will calculate the sum of several numbers\")\n",
    "        func_parametro(*args)\n",
    "        print(\"Done!...\")\n",
    "    \n",
    "    return funcion_interior\n",
    "\n",
    "@funcion_decoradora\n",
    "def suma(*args):\n",
    "    result = 0\n",
    "    for i in args:\n",
    "        result = result + i\n",
    "    print(result)\n",
    "\n",
    "@funcion_decoradora\n",
    "def resta(*args):\n",
    "    result = 0\n",
    "    for i in args:\n",
    "        result = result - i\n",
    "    print(result)\n",
    "\n",
    "resta(3,4,5)"
   ]
  },
  {
   "cell_type": "code",
   "execution_count": 48,
   "metadata": {},
   "outputs": [
    {
     "name": "stdout",
     "output_type": "stream",
     "text": [
      "20\n",
      "20\n"
     ]
    }
   ],
   "source": [
    "def suma1(*args): # *args takes the raw input parameters\n",
    "    resultado = 0\n",
    "    for i in args:\n",
    "        resultado = resultado + i\n",
    "    return resultado\n",
    "print(suma1(2,3,4,5,6))\n",
    "\n",
    "def suma2(**kwargs): # **kwargs takes the input parameters as dictionary\n",
    "    resultado = 0\n",
    "    for value in kwargs.values():\n",
    "        resultado = resultado + value\n",
    "    return resultado\n",
    "print(suma2(n1=2,n2=3,n3=4,n4=5,n5=6))"
   ]
  },
  {
   "cell_type": "markdown",
   "metadata": {},
   "source": [
    "## Modules and Packets\n",
    "\n",
    "\n",
    "\n",
    "### Modules\n",
    "\n",
    "each .py file is considered as module, so for ex:\n",
    "\n",
    "#### from test import Test\n",
    "\n",
    "In this case imports the class Test written in module test. If file constains only functions it is possible to import the functions:\n",
    "\n",
    "#### from test import function1\n",
    "\n",
    "\n",
    "\n",
    "### Packets\n",
    "\n",
    "A packet, briefly is a folder where it is stored several modules. Its syntax would be:\n",
    "\n",
    "**from PacketName.ModuleName import ClassName/FucntionName**\n",
    "\n",
    "It is possible to use an alias to refer to any module:\n",
    "\n",
    "**from class1.module1 as f1** (f1 will be the module alias)\n",
    "\n",
    "It is important to take into account that this folfer has to have the file **--init--.py** as an identifier that allow to python to understand that this folfer is a package.\n",
    "\n"
   ]
  },
  {
   "cell_type": "markdown",
   "metadata": {},
   "source": [
    "### Distributed packets\n",
    "\n",
    "1. Create a file named setup.py in the root directory **python**.\n",
    "\n",
    "\n",
    "2. **setup.py:**\n",
    "\n",
    "    from setuptools import setup\n",
    "    \n",
    "    setup(\n",
    "        name = NamePackage # any name\n",
    "        version = \"1.0\" # any version\n",
    "        description = \"....\"\n",
    "        author = \"AuthorName\"\n",
    "        url = \"www. ... .com\"\n",
    "        packages = [\"PackageName\",\"PackageName.subPackageName\",  etc ]\n",
    "        )\n",
    "        \n",
    "        \n",
    "3. In path .../python:\n",
    "\n",
    "    **python setup.py sdist**\n",
    "    \n",
    "    This action will create 2 folders: **...egg-info** and **dist**. In **dist** folder you will find a compressed       file (**..tar.gz**). This file will be de distributed package.\n",
    "    \n",
    "\n",
    "4. To install it in other server:\n",
    "\n",
    "    - Download the compressed package\n",
    "    - Run: pip3 install (...tar.gz) \n",
    "\n",
    "\n",
    "5. Tha package will be available to import its classes, functions and methods.\n",
    "\n",
    "\n",
    "6. To unistall the package:\n",
    "\n",
    "    - pip3 unistall (...tar.gz)"
   ]
  },
  {
   "cell_type": "markdown",
   "metadata": {},
   "source": [
    "## Regular Expressions\n",
    "\n",
    "https://regex101.com"
   ]
  },
  {
   "cell_type": "markdown",
   "metadata": {},
   "source": [
    "## Web Scraping\n",
    "\n",
    "This feature allows us to visit WEB sites, analize their content and capture information."
   ]
  },
  {
   "cell_type": "markdown",
   "metadata": {},
   "source": [
    "## Virtual Environments (venv)\n",
    "\n",
    "It helps us to create an application and run it in any computer.\n",
    "\n",
    "* pip install virtualenv\n",
    "* virtualenv venv\n",
    "* source venv/bin/activate\n",
    "\n",
    "To use with Google Cloud it is necessary to create the files:\n",
    "\n",
    "* main.py\n",
    "* app.yaml\n",
    "* appengine_config.py\n",
    "* lib/* (in this folder have to be all packages needed to run the application). An easy way to do it is to use the command: pip install -r requirements.txt -t lib/\n",
    "\n",
    "Note: requirements.txt includes the packages name and their versions."
   ]
  },
  {
   "cell_type": "markdown",
   "metadata": {},
   "source": [
    "## Project #1\n",
    "\n",
    "This project allows us to update, add, delete contacts information."
   ]
  },
  {
   "cell_type": "code",
   "execution_count": null,
   "metadata": {},
   "outputs": [
    {
     "name": "stdout",
     "output_type": "stream",
     "text": [
      "What do you want to do?                                                                                             (a)dd contact                                                                                                        (u)pdate contact                                                                                                     (s)earch contact                                                                                                     (d)elete contact                                                                                                     (l)ist contacts                                                                                                      (e)xit                                                                                                               l\n",
      "You selected (l)\n",
      "\n",
      "---*---*---*---*---*---*---*---\n",
      "Name: Jaime3\n",
      "CellPhone: 22829388\n",
      "Email: jaime3@gmail.com\n",
      "---*---*---*---*---*---*---*---\n"
     ]
    }
   ],
   "source": [
    "import csv\n",
    "\n",
    "class Contact:\n",
    "    \n",
    "    def __init__(self,name, phone, email):\n",
    "        self.name = name\n",
    "        self.phone = phone\n",
    "        self.email = email\n",
    "        \n",
    "\n",
    "class ContactBook:\n",
    "    \n",
    "    def __init__(self):\n",
    "        self._contacts = []\n",
    "        \n",
    "    def _save(self):\n",
    "        with open('contacts.csv','w') as f:\n",
    "            writer = csv.writer(f)\n",
    "            writer.writerow( ('name','phone','email') )\n",
    "            \n",
    "            for contact in self._contacts:\n",
    "                writer.writerow( (contact.name, contact.phone, contact.email) )\n",
    "\n",
    "    def add(self, name, phone, email):\n",
    "        contact = Contact(name, phone, email)\n",
    "        self._contacts.append(contact)\n",
    "        self._save()\n",
    "        # print('name: {}, phone: {}, email: {}'.format(name, phone, email))\n",
    "    \n",
    "    def show_all(self):\n",
    "        for contact in self._contacts:\n",
    "            self._print_contact(contact)\n",
    "    \n",
    "    def show_contact(self,name):\n",
    "        for contact in self._contacts:\n",
    "            if contact.name == name:\n",
    "                self._print_contact(contact)\n",
    "    \n",
    "    def _print_contact(self, contact):\n",
    "        print('---*---*---*---*---*---*---*---')\n",
    "        print('Name: {}'.format(contact.name))\n",
    "        print('CellPhone: {}'.format(contact.phone))\n",
    "        print('Email: {}'.format(contact.email))\n",
    "        print('---*---*---*---*---*---*---*---')\n",
    "    \n",
    "    def delete(self, name):\n",
    "        for contact in self._contacts:\n",
    "            if contact.name == name:\n",
    "                self._contacts.remove(contact)\n",
    "                self._contacts.save()\n",
    "                \n",
    "    def update(self, name):\n",
    "        condition = False\n",
    "        for contact in self._contacts:\n",
    "            if contact.name == name:\n",
    "                name = input('Type the name: ')\n",
    "                phone = input('Type the phone: ')\n",
    "                email = input('Type the email: ')\n",
    "                contact.name = name\n",
    "                contact.phone = phone\n",
    "                contact.email = email\n",
    "                condition = True\n",
    "                self._contacts.remove(contact)\n",
    "                self._contacts.append(contact)\n",
    "        if not condition:\n",
    "            print('')\n",
    "            print('Contact does not exist')\n",
    "            print('')\n",
    "\n",
    "\n",
    "def run():\n",
    "    \n",
    "    contact_book = ContactBook()\n",
    "    \n",
    "    with open('contacts.csv','r') as f:\n",
    "        reader = csv.reader(f)\n",
    "            \n",
    "        for idx, row in enumerate(reader):\n",
    "            if idx == 0:\n",
    "                continue\n",
    "                \n",
    "            contact_book.add(row[0], row[1], row[2])\n",
    "    \n",
    "    while True:\n",
    "        command = input('What do you want to do?                                                                     \\\n",
    "                        (a)dd contact                                                                                \\\n",
    "                        (u)pdate contact                                                                             \\\n",
    "                        (s)earch contact                                                                             \\\n",
    "                        (d)elete contact                                                                             \\\n",
    "                        (l)ist contacts                                                                              \\\n",
    "                        (e)xit                                                                                       \\\n",
    "                        ')\n",
    "        \n",
    "        if command == 'a':\n",
    "            print('You selected (a)')\n",
    "            print('')\n",
    "            name = input('Type the name')\n",
    "            phone = input('Type the phone')\n",
    "            email = input('Type the email')\n",
    "            contact_book.add(name, phone, email)\n",
    "        \n",
    "        elif command == 'u':\n",
    "            print('You selected (u)')\n",
    "            print('')\n",
    "            name = input('Type the name: ')\n",
    "            contact_book.update(name)\n",
    "                        \n",
    "        elif command == 's':\n",
    "            print('You selected (s)')\n",
    "            print('')\n",
    "            name = input('Type the name: ')\n",
    "            contact_book.show_contact(name)\n",
    "                        \n",
    "        elif command == 'd':\n",
    "            print('You selected (d)')\n",
    "            print('')\n",
    "            name = input('Type the name: ')\n",
    "            contact_book.delete(name)\n",
    "        \n",
    "        elif command == 'l':\n",
    "            print('You selected (l)')\n",
    "            print('')\n",
    "            contact_book.show_all()\n",
    "            \n",
    "                        \n",
    "        else:\n",
    "            break\n",
    "            print('Good bye!...')\n",
    "\n",
    "run()\n",
    "                    "
   ]
  },
  {
   "cell_type": "markdown",
   "metadata": {},
   "source": [
    "### Function Lambda (on the go, on demand, online, fast functions)\n",
    "\n",
    "It expresses in a short way any function. If this function has loops or conditional it is not possible to express it with lambda.\n",
    "\n",
    "syntax: **lambda** (input_parameters): operation"
   ]
  },
  {
   "cell_type": "code",
   "execution_count": 58,
   "metadata": {},
   "outputs": [
    {
     "name": "stdout",
     "output_type": "stream",
     "text": [
      "The trinagles areas is 17.5\n",
      "27\n",
      "100 $\n"
     ]
    }
   ],
   "source": [
    "'''def triangle_area(base, height):\n",
    "    return (base*height)/2\n",
    "\n",
    "print(triangle_area(5,7))'''\n",
    "\n",
    "triangle_area2 = lambda base,height: base*height/2\n",
    "print(\"The triangle areas is {}\".format(triangle_area2(5,7)))\n",
    "\n",
    "cube = lambda number: pow(number,3) ## :number**3, it is the same operation\n",
    "print(cube(3))\n",
    "\n",
    "money = lambda qty: \"{} $\".format(qty)\n",
    "print(money(100))\n"
   ]
  },
  {
   "cell_type": "markdown",
   "metadata": {},
   "source": [
    "### Function Filter\n",
    "\n",
    "It allows filter any list or sequence elements according with an specific condition.\n"
   ]
  },
  {
   "cell_type": "code",
   "execution_count": 10,
   "metadata": {},
   "outputs": [
    {
     "name": "stdout",
     "output_type": "stream",
     "text": [
      "[24, 8, 92]\n",
      "[24, 8, 92]\n"
     ]
    }
   ],
   "source": [
    "def even_number(number):\n",
    "    if number % 2 == 0:\n",
    "        return True\n",
    "\n",
    "numbers = [17,24,7,39,8,51,92]\n",
    "\n",
    "print(list(filter(even_number, numbers)))\n",
    "\n",
    "print(list(filter(lambda x: x%2==0,numbers))) # The same function using lambda"
   ]
  },
  {
   "cell_type": "code",
   "execution_count": 18,
   "metadata": {},
   "outputs": [
    {
     "name": "stdout",
     "output_type": "stream",
     "text": [
      "Jaime - position: Director - salary: 20000\n",
      "Ana - position: Director - salary: 15000\n"
     ]
    }
   ],
   "source": [
    "class Employee:\n",
    "    \n",
    "    def __init__(self, name, position, salary): ## constructor\n",
    "        \n",
    "        self.name = name\n",
    "        self.position = position\n",
    "        self.salary = salary\n",
    "        \n",
    "    def __str__(self):\n",
    "        \n",
    "        return \"{} works as {} and has a salary equal to {}$\".format(self.name, self.position, self. salary)\n",
    "\n",
    "EmployeeList = [Employee(\"Jhon\",\"Director\",10000), Employee(\"Jaime\",\"Director\",20000),Employee(\"Ana\",\"Director\",15000)]\n",
    "\n",
    "salaries = filter(lambda Employee: Employee.salary>10000,EmployeeList)\n",
    "\n",
    "for EmployeeFiltered in salaries:\n",
    "    print('{} - position: {} - salary: {}'.format(EmployeeFiltered.name, EmployeeFiltered.position, EmployeeFiltered.salary))"
   ]
  },
  {
   "cell_type": "markdown",
   "metadata": {},
   "source": [
    "### Function map\n",
    "\n",
    "It applies a function to every element in a itterable list (lists, tuples, others)."
   ]
  },
  {
   "cell_type": "code",
   "execution_count": 59,
   "metadata": {},
   "outputs": [
    {
     "name": "stdout",
     "output_type": "stream",
     "text": [
      "Jhon - position: Director - salary: 10300.0\n",
      "Jaime - position: Director - salary: 20600.0\n",
      "Ana - position: Director - salary: 15450.0\n"
     ]
    }
   ],
   "source": [
    "class Employee:\n",
    "    \n",
    "    def __init__(self, name, position, salary): ## constructor\n",
    "        \n",
    "        self.name = name\n",
    "        self.position = position\n",
    "        self.salary = salary\n",
    "        \n",
    "    def __str__(self):\n",
    "        \n",
    "        return \"{} works as {} and has a salary equal to {}$\".format(self.name, self.position, self. salary)\n",
    "\n",
    "EmployeeList = [Employee(\"Jhon\",\"Director\",10000), Employee(\"Jaime\",\"Director\",20000),Employee(\"Ana\",\"Director\",15000)]\n",
    "\n",
    "def calculate(employee):\n",
    "    \n",
    "    employee.salary = employee.salary*1.03\n",
    "    return employee\n",
    "\n",
    "EmployeeList2 = map(calculate,EmployeeList)\n",
    "\n",
    "for EmployeeFiltered in EmployeeList2:\n",
    "    print('{} - position: {} - salary: {}'.format(EmployeeFiltered.name, EmployeeFiltered.position, EmployeeFiltered.salary))"
   ]
  },
  {
   "cell_type": "code",
   "execution_count": 64,
   "metadata": {},
   "outputs": [
    {
     "name": "stdout",
     "output_type": "stream",
     "text": [
      "0\n",
      "1\n",
      "4\n",
      "9\n",
      "16\n",
      "25\n",
      "36\n",
      "49\n",
      "64\n",
      "81\n"
     ]
    }
   ],
   "source": [
    "def cuadrado(x):\n",
    "    return x*x\n",
    "\n",
    "listTest = range(10)\n",
    "newTest = map(cuadrado,listTest) # map exameple 2\n",
    "for i in newTest:\n",
    "    print(i)"
   ]
  },
  {
   "cell_type": "markdown",
   "metadata": {},
   "source": [
    "### Example of letter counter\n",
    "\n",
    "Sorted function.\n",
    "\n",
    "sorted(iterable, key=\"key\", reverse=reverse)"
   ]
  },
  {
   "cell_type": "code",
   "execution_count": 67,
   "metadata": {},
   "outputs": [
    {
     "name": "stdout",
     "output_type": "stream",
     "text": [
      "n:10\n",
      "c:9\n",
      "s:8\n",
      "l:5\n",
      "r:4\n",
      "j:4\n",
      "k:3\n",
      "m:3\n",
      "h:2\n",
      "f:2\n",
      "v:1\n",
      "d:1\n",
      "u:1\n",
      "e:1\n",
      "a:1\n"
     ]
    }
   ],
   "source": [
    "str = 'jauhenrnvnsksmlfnchdsjsnckflrncnslsjcmrlcncslsncjmrkcnc'\n",
    "\n",
    "myDict = {}\n",
    "for i in set(list(str)):\n",
    "    myDict[i] = list(str).count(i)\n",
    "\n",
    "for key, value in sorted(myDict.items(), key = lambda item: item[1], reverse = True):\n",
    "    print('{}:{}'.format(key, value))"
   ]
  },
  {
   "cell_type": "code",
   "execution_count": 66,
   "metadata": {},
   "outputs": [
    {
     "data": {
      "text/plain": [
       "{'n': 10,\n",
       " 'c': 9,\n",
       " 's': 8,\n",
       " 'l': 5,\n",
       " 'r': 4,\n",
       " 'j': 4,\n",
       " 'k': 3,\n",
       " 'm': 3,\n",
       " 'h': 2,\n",
       " 'f': 2,\n",
       " 'v': 1,\n",
       " 'd': 1,\n",
       " 'u': 1,\n",
       " 'e': 1,\n",
       " 'a': 1}"
      ]
     },
     "execution_count": 66,
     "metadata": {},
     "output_type": "execute_result"
    }
   ],
   "source": [
    "str = 'jauhenrnvnsksmlfnchdsjsnckflrncnslsjcmrlcncslsncjmrkcnc'\n",
    "\n",
    "myDict = {}\n",
    "for i in set(list(str)):\n",
    "    myDict[i] = list(str).count(i)\n",
    "    \n",
    "{key:value for key,value in sorted(myDict.items(), key = lambda item: item[1], reverse = True)}"
   ]
  },
  {
   "cell_type": "code",
   "execution_count": null,
   "metadata": {},
   "outputs": [],
   "source": []
  }
 ],
 "metadata": {
  "kernelspec": {
   "display_name": "Python 3",
   "language": "python",
   "name": "python3"
  },
  "language_info": {
   "codemirror_mode": {
    "name": "ipython",
    "version": 3
   },
   "file_extension": ".py",
   "mimetype": "text/x-python",
   "name": "python",
   "nbconvert_exporter": "python",
   "pygments_lexer": "ipython3",
   "version": "3.7.3"
  }
 },
 "nbformat": 4,
 "nbformat_minor": 2
}
